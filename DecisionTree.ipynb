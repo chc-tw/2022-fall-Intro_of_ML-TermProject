{
 "cells": [
  {
   "cell_type": "markdown",
   "metadata": {
    "collapsed": false,
    "pycharm": {
     "name": "#%% md\n"
    }
   },
   "source": [
    "# ML final project\n",
    "## 張皓丞 10811017\n",
    "\n"
   ]
  },
  {
   "cell_type": "code",
   "execution_count": 651,
   "metadata": {
    "collapsed": false,
    "pycharm": {
     "name": "#%%\n"
    }
   },
   "outputs": [
    {
     "name": "stderr",
     "output_type": "stream",
     "text": [
      "[nltk_data] Downloading package omw-1.4 to /Users/chc/nltk_data...\n",
      "[nltk_data]   Package omw-1.4 is already up-to-date!\n"
     ]
    }
   ],
   "source": [
    "import pandas as pd\n",
    "import numpy as np\n",
    "import random\n",
    "import math\n",
    "import matplotlib.pyplot as plt\n",
    "import tqdm\n",
    "from sklearn.preprocessing import minmax_scale\n",
    "from scipy import stats\n",
    "from collections import Counter\n",
    "from imblearn.over_sampling import RandomOverSampler,SMOTE\n",
    "from sklearn.metrics import confusion_matrix,accuracy_score,classification_report,f1_score\n",
    "from sklearn.model_selection import train_test_split\n",
    "import warnings\n",
    "warnings.filterwarnings(\"ignore\")\n",
    "from text_preprocessing import preprocess_text\n",
    "from text_preprocessing import to_lower, remove_itemized_bullet_and_numbering, remove_punctuation, remove_whitespace, normalize_unicode,remove_stopword, substitute_token,lemmatize_word\n",
    "from sklearn.feature_extraction.text import TfidfVectorizer, CountVectorizer"
   ]
  },
  {
   "cell_type": "markdown",
   "metadata": {
    "collapsed": false,
    "pycharm": {
     "name": "#%% md\n"
    }
   },
   "source": [
    "## Import the dataset and explore them"
   ]
  },
  {
   "cell_type": "code",
   "execution_count": 687,
   "metadata": {
    "collapsed": false,
    "pycharm": {
     "name": "#%%\n"
    }
   },
   "outputs": [],
   "source": [
    "dataX = pd.read_excel(\"MLdata/Dataset1_train/X_train.xlsx\")\n",
    "dataY = pd.read_excel(\"MLdata/Dataset1_train/y_train.xlsx\")"
   ]
  },
  {
   "cell_type": "code",
   "execution_count": 27,
   "metadata": {
    "collapsed": false,
    "pycharm": {
     "name": "#%%\n"
    }
   },
   "outputs": [
    {
     "data": {
      "image/png": "[encoded data removed]",
      "text/plain": [
       "<Figure size 640x480 with 1 Axes>"
      ]
     },
     "metadata": {},
     "output_type": "display_data"
    }
   ],
   "source": [
    "plt.hist(dataX[dataX.columns[0]],bins=500)\n",
    "plt.show()"
   ]
  },
  {
   "cell_type": "code",
   "execution_count": 259,
   "metadata": {
    "collapsed": false,
    "pycharm": {
     "name": "#%%\n"
    }
   },
   "outputs": [
    {
     "data": {
      "image/png": "[encoded data removed]",
      "text/plain": [
       "<Figure size 640x480 with 1 Axes>"
      ]
     },
     "metadata": {},
     "output_type": "display_data"
    }
   ],
   "source": [
    "plt.hist(dataX[dataX.columns[6]],bins=500)\n",
    "plt.show()"
   ]
  },
  {
   "cell_type": "markdown",
   "metadata": {
    "collapsed": false,
    "pycharm": {
     "name": "#%% md\n"
    }
   },
   "source": [
    "## Preprocessing Part\n",
    "Implement the kNN algorithm to impute the missing value"
   ]
  },
  {
   "cell_type": "code",
   "execution_count": 690,
   "metadata": {
    "collapsed": false,
    "pycharm": {
     "name": "#%%\n"
    }
   },
   "outputs": [
    {
     "name": "stderr",
     "output_type": "stream",
     "text": [
      "100%|██████████| 11/11 [00:00<00:00, 21.42it/s]\n"
     ]
    }
   ],
   "source": [
    "def kneighbors(k, rowsWithNum,df_rescale, df):\n",
    "    indices = {}\n",
    "    df_withNun = df.loc[rowsWithNum].apply(minmax_scale)\n",
    "    for row in rowsWithNum:\n",
    "        distances = np.sqrt(((df_rescale - df_withNun.loc[row]) ** 2).sum(axis=1))\n",
    "        indices.update( {row:distances.sort_values()[:k].index})\n",
    "    return indices\n",
    "\n",
    "def knn_imputation(df, k=5):\n",
    "    df_imputed = df.copy()\n",
    "    df_withoutNun = df[~df.isnull().any(axis=1)]\n",
    "    df_rescale = df_withoutNun.apply(minmax_scale)\n",
    "    for feature in tqdm.tqdm(df.columns,position=0,leave=True):\n",
    "        rowsWithNum = df[df[feature].isnull()].index\n",
    "        indices = kneighbors(k,rowsWithNum,df_rescale,df)\n",
    "        for key in indices:\n",
    "            imputed = df.loc[indices[key],feature].mean().round(2)\n",
    "            df_imputed[feature].iloc[[key]] = imputed\n",
    "\n",
    "    return df_imputed\n",
    "\n",
    "dataX_imputed = knn_imputation(dataX)"
   ]
  },
  {
   "cell_type": "code",
   "execution_count": 691,
   "metadata": {
    "collapsed": false,
    "pycharm": {
     "name": "#%%\n"
    }
   },
   "outputs": [],
   "source": [
    "dataY_outlier = dataY[(np.abs(stats.zscore(dataX_imputed)) < 3).all(axis=1)]\n",
    "dataX_outlier = dataX_imputed[(np.abs(stats.zscore(dataX_imputed)) < 3).all(axis=1)]\n",
    "dataX_outlier.reset_index(drop=True,inplace=True)\n",
    "dataY_outlier.reset_index(drop=True,inplace=True)"
   ]
  },
  {
   "cell_type": "markdown",
   "metadata": {
    "collapsed": false,
    "pycharm": {
     "name": "#%% md\n"
    }
   },
   "source": [
    "Using the Random Over Sample to deal with the imbalance data"
   ]
  },
  {
   "cell_type": "code",
   "execution_count": 640,
   "metadata": {
    "collapsed": false,
    "pycharm": {
     "name": "#%%\n"
    }
   },
   "outputs": [],
   "source": [
    "ros = RandomOverSampler(sampling_strategy='auto')\n",
    "X_ros, Y_ros = ros.fit_resample(dataX_outlier,dataY_outlier)"
   ]
  },
  {
   "cell_type": "code",
   "execution_count": 60,
   "metadata": {
    "collapsed": false,
    "pycharm": {
     "name": "#%%\n"
    }
   },
   "outputs": [],
   "source": [
    "#SMOTE = SMOTE(sampling_strategy='auto')\n",
    "X_res = pd.read_csv('X_res.csv')\n",
    "X_res.drop(X_res.columns[0],axis=1, inplace = True)\n",
    "Y_res = pd.read_csv('Y_res.csv')\n",
    "Y_res.drop(Y_res.columns[0],axis=1, inplace = True)\n",
    "Y_res.rename(columns={'class':'target'}, inplace = True)"
   ]
  },
  {
   "cell_type": "markdown",
   "metadata": {
    "collapsed": false,
    "pycharm": {
     "name": "#%% md\n"
    }
   },
   "source": [
    "## Building Tree\n",
    "### First version\n",
    "First define the formula of entropy and information_gain."
   ]
  },
  {
   "cell_type": "code",
   "execution_count": 693,
   "metadata": {
    "collapsed": false,
    "pycharm": {
     "name": "#%%\n"
    }
   },
   "outputs": [],
   "source": [
    "def entropy(counts):\n",
    "    # Calculate the entropy of the target variable\n",
    "    n = sum(counts)\n",
    "    ent = 0\n",
    "    for count in counts:\n",
    "        p = count / n\n",
    "        ent -= p * math.log(p, 2)\n",
    "    return ent\n",
    "def information_gain(df,df_left, df_right):\n",
    "\n",
    "    left_entropy = entropy(df_left.target.value_counts())\n",
    "    right_entropy = entropy(df_right.target.value_counts())\n",
    "\n",
    "\n",
    "    total_size = len(df_left) + len(df_right)\n",
    "    left_weight = len(df_left) / total_size\n",
    "    right_weight = len(df_right) / total_size\n",
    "    weighted_avg_entropy = left_weight * left_entropy + right_weight * right_entropy\n",
    "\n",
    "\n",
    "    parent_entropy = entropy(df.target.value_counts())\n",
    "    info_gain = parent_entropy - weighted_avg_entropy\n",
    "\n",
    "    return info_gain"
   ]
  },
  {
   "cell_type": "markdown",
   "metadata": {
    "collapsed": false,
    "pycharm": {
     "name": "#%% md\n"
    }
   },
   "source": [
    "Creat a Node as the root. And use the IG as the standard to choose the best feature and threshold to split the node\n",
    "When the tree is reach the max_depth or min_samples_at_leaf or only remain less than 2 classes, stop and store the target in the node."
   ]
  },
  {
   "cell_type": "code",
   "execution_count": 694,
   "metadata": {
    "collapsed": false,
    "pycharm": {
     "name": "#%%\n"
    }
   },
   "outputs": [],
   "source": [
    "class Node:\n",
    "    def __init__(self, feature=None, threshold=None, left=None, right=None, target=None):\n",
    "        self.feature = feature\n",
    "        self.threshold = threshold\n",
    "        self.left = left\n",
    "        self.right = right\n",
    "        self.target = target\n",
    "\n",
    "def create_tree(df, max_depth=5, min_samples_at_leaf=5):\n",
    "    if len(df.target.unique()) <= 2 or max_depth == 0:\n",
    "        return Node(target=int(df.target.mode().loc[0]))\n",
    "    else:\n",
    "        features = df.columns[:-1]\n",
    "        best_feature = None\n",
    "        best_threshold = None\n",
    "        best_gain = 0\n",
    "        for feature in features:\n",
    "            values = df[feature].unique()\n",
    "            for value in values:\n",
    "                if value == values.max():\n",
    "                    threshold = values.max()\n",
    "                else:\n",
    "                    threshold = (value + values[values > value].min()) / 2\n",
    "                df_left = df[df[feature] <= threshold]\n",
    "                df_right = df[df[feature] > threshold]\n",
    "                gain = information_gain(df,df_left, df_right)\n",
    "                if gain > best_gain:\n",
    "                    best_feature = feature\n",
    "                    best_threshold = threshold\n",
    "                    best_gain = gain\n",
    "        df_left = df[df[best_feature] <= best_threshold]\n",
    "        df_right = df[df[best_feature] > best_threshold]\n",
    "        if len(df_left) < min_samples_at_leaf or len(df_right) < min_samples_at_leaf:\n",
    "            return Node(target=int(df.target.mode().loc[0]))\n",
    "        left = create_tree(df_left,max_depth=max_depth-1, min_samples_at_leaf=min_samples_at_leaf)\n",
    "        right = create_tree(df_right,max_depth=max_depth-1, min_samples_at_leaf=min_samples_at_leaf)\n",
    "        return Node(feature=best_feature, threshold = best_threshold, left=left, right=right)"
   ]
  },
  {
   "cell_type": "code",
   "execution_count": 695,
   "metadata": {
    "collapsed": false,
    "pycharm": {
     "name": "#%%\n"
    }
   },
   "outputs": [],
   "source": [
    "X_train, X_val, y_train, y_val = train_test_split(dataX_outlier, dataY_outlier, test_size=0.2, stratify=dataY_outlier)\n",
    "X_train.reset_index(drop=True,inplace=True)\n",
    "y_train.reset_index(drop=True,inplace=True)\n",
    "X_val.reset_index(drop=True,inplace=True)\n",
    "y_val.reset_index(drop=True,inplace=True)"
   ]
  },
  {
   "cell_type": "code",
   "execution_count": 696,
   "metadata": {
    "collapsed": false,
    "pycharm": {
     "name": "#%%\n"
    }
   },
   "outputs": [],
   "source": [
    "tree = create_tree(pd.concat([X_train, y_train], axis=1), max_depth=12, min_samples_at_leaf=3)"
   ]
  },
  {
   "cell_type": "code",
   "execution_count": 673,
   "metadata": {
    "collapsed": false,
    "pycharm": {
     "name": "#%%\n"
    }
   },
   "outputs": [],
   "source": [
    "def predict(tree,x):\n",
    "    while tree.target == None:\n",
    "        feature = tree.feature\n",
    "        threshold = tree.threshold\n",
    "        if x[feature] <= threshold:\n",
    "            tree = tree.left\n",
    "        else:\n",
    "            tree = tree.right\n",
    "    return tree.target\n",
    "\n",
    "def predictAns(tree, X):\n",
    "    predictions = []\n",
    "    for index in tqdm.trange(len(X)):\n",
    "        predictions.append(predict(tree, X.loc[index]))\n",
    "    return predictions"
   ]
  },
  {
   "cell_type": "markdown",
   "metadata": {
    "collapsed": false,
    "pycharm": {
     "name": "#%% md\n"
    }
   },
   "source": [
    "## Evaluate Part\n",
    "make the prediction"
   ]
  },
  {
   "cell_type": "code",
   "execution_count": 697,
   "metadata": {
    "collapsed": false,
    "pycharm": {
     "name": "#%%\n"
    }
   },
   "outputs": [],
   "source": [
    "pre = predictAns(tree,X_val)"
   ]
  },
  {
   "cell_type": "code",
   "execution_count": 457,
   "metadata": {
    "collapsed": false,
    "pycharm": {
     "name": "#%%\n"
    }
   },
   "outputs": [],
   "source": [
    "def report(predictions, y_test):\n",
    "    print('Accuracy: %s' % accuracy_score(y_test, predictions))\n",
    "    print('Confusion Matrix:')\n",
    "    print(confusion_matrix(y_test, predictions,labels=[3,4,5,6,7,8]))\n",
    "    print('Classification Report:')\n",
    "    print(classification_report(y_test, predictions))"
   ]
  },
  {
   "cell_type": "code",
   "execution_count": 460,
   "metadata": {
    "collapsed": false,
    "pycharm": {
     "name": "#%%\n"
    }
   },
   "outputs": [
    {
     "name": "stdout",
     "output_type": "stream",
     "text": [
      "Accuracy: 0.5698924731182796\n",
      "Confusion Matrix:\n",
      "[[ 0  0  1  0  0  0]\n",
      " [ 0  0  4  2  0  0]\n",
      " [ 0  1 45 32  0  0]\n",
      " [ 0  4 16 52  5  0]\n",
      " [ 0  0  6  7  9  0]\n",
      " [ 0  0  2  0  0  0]]\n",
      "Classification Report:\n",
      "              precision    recall  f1-score   support\n",
      "\n",
      "           3       0.00      0.00      0.00         1\n",
      "           4       0.00      0.00      0.00         6\n",
      "           5       0.61      0.58      0.59        78\n",
      "           6       0.56      0.68      0.61        77\n",
      "           7       0.64      0.41      0.50        22\n",
      "           8       0.00      0.00      0.00         2\n",
      "\n",
      "    accuracy                           0.57       186\n",
      "   macro avg       0.30      0.28      0.28       186\n",
      "weighted avg       0.56      0.57      0.56       186\n",
      "\n"
     ]
    }
   ],
   "source": [
    "report(pre,y_val)"
   ]
  },
  {
   "cell_type": "markdown",
   "metadata": {
    "collapsed": false,
    "pycharm": {
     "name": "#%% md\n"
    }
   },
   "source": [
    "## Second version\n",
    "Add boosting into the tree"
   ]
  },
  {
   "cell_type": "markdown",
   "metadata": {
    "collapsed": false,
    "pycharm": {
     "name": "#%% md\n"
    }
   },
   "source": [
    "Use this function to calculate the error base on the last weak learner"
   ]
  },
  {
   "cell_type": "code",
   "execution_count": 698,
   "metadata": {
    "collapsed": false,
    "pycharm": {
     "name": "#%%\n"
    }
   },
   "outputs": [],
   "source": [
    "def predict(tree,x):\n",
    "    while tree.target == None:\n",
    "        feature = tree.feature\n",
    "        threshold = tree.threshold\n",
    "        if x[feature] <= threshold:\n",
    "            tree = tree.left\n",
    "        else:\n",
    "            tree = tree.right\n",
    "    return tree.target\n",
    "\n",
    "def predictAns(tree, X):\n",
    "    predictions = []\n",
    "    for index in range(len(X)):\n",
    "        predictions.append(predict(tree, X.loc[index]))\n",
    "    return predictions"
   ]
  },
  {
   "cell_type": "markdown",
   "metadata": {
    "collapsed": false,
    "pycharm": {
     "name": "#%% md\n"
    }
   },
   "source": [
    "Use a function weight_sum to calculate the sum of weight of instances"
   ]
  },
  {
   "cell_type": "code",
   "execution_count": 707,
   "metadata": {
    "collapsed": false,
    "pycharm": {
     "name": "#%%\n"
    }
   },
   "outputs": [],
   "source": [
    "def weight_sum(df):\n",
    "    weight_dic = {3:0,4:0,5:0,6:0,7:0,8:0}\n",
    "    for index in df.index:\n",
    "        weight_dic[df.target[index]] += df.weights[index]\n",
    "    for key in range(3,9):\n",
    "        if weight_dic[key] == 0:\n",
    "            weight_dic.pop(key)\n",
    "    return weight_dic\n",
    "\n",
    "def entropy(df):\n",
    "    n = sum(df.weights)\n",
    "    ent = 0\n",
    "    weight_dic = weight_sum(df)\n",
    "    for key in weight_dic:\n",
    "        p = weight_dic[key] / n\n",
    "        ent -=   p * math.log(p, 2)\n",
    "    return ent\n",
    "\n",
    "def information_gain(df, df_left, df_right):\n",
    "    left_entropy = entropy(df_left)\n",
    "    right_entropy = entropy(df_right)\n",
    "\n",
    "    total_size = len(df_left) + len(df_right)\n",
    "\n",
    "    left_weight = len(df_left) / total_size\n",
    "    right_weight = len(df_right) / total_size\n",
    "\n",
    "    weighted_avg_entropy = left_weight * left_entropy + right_weight * right_entropy\n",
    "    parent_entropy = entropy(df)\n",
    "    info_gain = parent_entropy - weighted_avg_entropy\n",
    "\n",
    "    return info_gain\n"
   ]
  },
  {
   "cell_type": "code",
   "execution_count": 709,
   "metadata": {
    "collapsed": false,
    "pycharm": {
     "name": "#%%\n"
    }
   },
   "outputs": [],
   "source": [
    "class Node:\n",
    "    def __init__(self, feature=None, threshold=None, left=None, right=None, target=None):\n",
    "        self.feature = feature\n",
    "        self.threshold = threshold\n",
    "        self.left = left\n",
    "        self.right = right\n",
    "        self.target = target\n",
    "\n",
    "def create_tree(df, weights, max_depth=5, min_samples_at_leaf=5):\n",
    "    if len(df.target.unique()) <= 2 or max_depth == 0:\n",
    "        return Node(target=int(df.target.mode().loc[0]))\n",
    "    else:\n",
    "        df['weights'] = weights[df.index]\n",
    "        features = df.columns[:-2]\n",
    "        best_feature = None\n",
    "        best_threshold = None\n",
    "        best_gain = 0\n",
    "        for feature in features:\n",
    "            values = df[feature].unique()\n",
    "            for value in values:\n",
    "                if value == values.max():\n",
    "                    threshold = values.max()\n",
    "                else:\n",
    "                    threshold = (value + values[values > value].min()) / 2\n",
    "                df_left = df[df[feature] <= threshold]\n",
    "                df_right = df[df[feature] > threshold]\n",
    "                gain = information_gain(df,df_left, df_right)\n",
    "                if gain > best_gain:\n",
    "                    best_feature = feature\n",
    "                    best_threshold = threshold\n",
    "                    best_gain = gain\n",
    "        df_left = df[df[best_feature] <= best_threshold]\n",
    "        df_right = df[df[best_feature] > best_threshold]\n",
    "        if len(df_left) < min_samples_at_leaf or len(df_right) < min_samples_at_leaf:\n",
    "            return Node(target=int(df.target.mode().loc[0]))\n",
    "        left = create_tree(df_left, weights, max_depth=max_depth-1, min_samples_at_leaf=min_samples_at_leaf)\n",
    "        right = create_tree(df_right, weights, max_depth=max_depth-1, min_samples_at_leaf=min_samples_at_leaf)\n",
    "        return Node(feature=best_feature, threshold=best_threshold, left=left, right=right)\n"
   ]
  },
  {
   "cell_type": "markdown",
   "metadata": {
    "collapsed": false,
    "pycharm": {
     "name": "#%% md\n"
    }
   },
   "source": [
    "Calculate the error to update the weight"
   ]
  },
  {
   "cell_type": "code",
   "execution_count": 710,
   "metadata": {
    "collapsed": false,
    "pycharm": {
     "name": "#%%\n"
    }
   },
   "outputs": [],
   "source": [
    "def boost(X, y, num_iterations=50):\n",
    "    example_weights = np.ones(len(y)) / len(y)\n",
    "    weak_learners = []\n",
    "    for i in tqdm.trange(num_iterations,position=0,leave=True):\n",
    "        tree = create_tree(pd.concat([X, y], axis=1),weights=example_weights, max_depth=12, min_samples_at_leaf=3)\n",
    "        prediction = predictAns(tree, X)\n",
    "        error = np.average(prediction != np.array(y.target), weights=example_weights)\n",
    "        if error >= 0.5:\n",
    "            break\n",
    "        beta = error / (1 - error)\n",
    "        for index in range(len(example_weights)):\n",
    "            if prediction[index] == y.target.loc[index]:\n",
    "                example_weights[index] *= beta\n",
    "        example_weights /= np.sum(example_weights)\n",
    "        weak_learners.append((beta, tree))\n",
    "    return weak_learners\n"
   ]
  },
  {
   "cell_type": "markdown",
   "metadata": {
    "collapsed": false,
    "pycharm": {
     "name": "#%% md\n"
    }
   },
   "source": [
    "To predict the final answer. The instance with higest weighted vote is the target value"
   ]
  },
  {
   "cell_type": "code",
   "execution_count": 711,
   "metadata": {
    "collapsed": false,
    "pycharm": {
     "name": "#%%\n"
    }
   },
   "outputs": [],
   "source": [
    "def strong_learner_preadict(weak_learners,x):\n",
    "    weight_dic = {3:0,4:0,5:0,6:0,7:0,8:0}\n",
    "    for beta,tree in weak_learners:\n",
    "        pre = predict(tree,x)\n",
    "        weight_dic[pre] += np.log(1/beta)\n",
    "    max=0\n",
    "    target = None\n",
    "    for key in weight_dic:\n",
    "        if weight_dic[key] > max:\n",
    "            max = weight_dic[key]\n",
    "            target = key\n",
    "    return target\n",
    "\n",
    "def SL_preadictAns(weak_learners,x):\n",
    "    predictions = []\n",
    "    for index in tqdm.trange(len(x),position=0,leave=True):\n",
    "        predictions.append(strong_learner_preadict(weak_learners, x.loc[index]))\n",
    "    return predictions"
   ]
  },
  {
   "cell_type": "code",
   "execution_count": 720,
   "metadata": {
    "collapsed": false,
    "pycharm": {
     "name": "#%%\n"
    }
   },
   "outputs": [
    {
     "name": "stderr",
     "output_type": "stream",
     "text": [
      " 36%|███▋      | 4/11 [06:49<11:57, 102.47s/it]\n"
     ]
    }
   ],
   "source": [
    "X_train, X_val, y_train, y_val = train_test_split(dataX_outlier, dataY_outlier, test_size=0.2, stratify=dataY_outlier)\n",
    "X_train.reset_index(drop=True,inplace=True)\n",
    "y_train.reset_index(drop=True,inplace=True)\n",
    "X_val.reset_index(drop=True,inplace=True)\n",
    "y_val.reset_index(drop=True,inplace=True)\n",
    "dataY_outlier.reset_index(drop=True,inplace=True)\n",
    "weak_learners = boost(X_train, y_train,num_iterations=11)"
   ]
  },
  {
   "cell_type": "code",
   "execution_count": 727,
   "metadata": {
    "collapsed": false,
    "pycharm": {
     "name": "#%%\n"
    }
   },
   "outputs": [
    {
     "name": "stderr",
     "output_type": "stream",
     "text": [
      "100%|██████████| 186/186 [00:00<00:00, 5078.94it/s]\n"
     ]
    }
   ],
   "source": [
    "pre2 = SL_preadictAns(weak_learners,X_val)"
   ]
  },
  {
   "cell_type": "code",
   "execution_count": 717,
   "metadata": {
    "collapsed": false,
    "pycharm": {
     "name": "#%%\n"
    }
   },
   "outputs": [],
   "source": [
    "def report(predictions, y_test):\n",
    "    print('Accuracy: %s' % accuracy_score(y_test, predictions))\n",
    "    print('Confusion Matrix:')\n",
    "    print(confusion_matrix(y_test, predictions,labels=[3,4,5,6,7,8]))\n",
    "    print('Classification Report:')\n",
    "    print(classification_report(y_test, predictions))"
   ]
  },
  {
   "cell_type": "code",
   "execution_count": 728,
   "metadata": {
    "collapsed": false,
    "pycharm": {
     "name": "#%%\n"
    }
   },
   "outputs": [
    {
     "name": "stdout",
     "output_type": "stream",
     "text": [
      "Accuracy: 0.7849462365591398\n",
      "Confusion Matrix:\n",
      "[[ 1  0  0  0  0  0]\n",
      " [ 0  3  3  0  0  0]\n",
      " [ 0  0 66 12  0  0]\n",
      " [ 0  0 14 60  3  0]\n",
      " [ 0  2  0  4 16  0]\n",
      " [ 0  0  0  2  0  0]]\n",
      "Classification Report:\n",
      "              precision    recall  f1-score   support\n",
      "\n",
      "           3       1.00      1.00      1.00         1\n",
      "           4       0.60      0.50      0.55         6\n",
      "           5       0.80      0.85      0.82        78\n",
      "           6       0.77      0.78      0.77        77\n",
      "           7       0.84      0.73      0.78        22\n",
      "           8       0.00      0.00      0.00         2\n",
      "\n",
      "    accuracy                           0.78       186\n",
      "   macro avg       0.67      0.64      0.65       186\n",
      "weighted avg       0.78      0.78      0.78       186\n",
      "\n"
     ]
    }
   ],
   "source": [
    "report(pre2,y_val)"
   ]
  },
  {
   "cell_type": "markdown",
   "metadata": {
    "collapsed": false,
    "pycharm": {
     "name": "#%% md\n"
    }
   },
   "source": [
    "Predict the test dataset and save as csv file"
   ]
  },
  {
   "cell_type": "code",
   "execution_count": 714,
   "metadata": {
    "collapsed": false,
    "pycharm": {
     "name": "#%%\n"
    }
   },
   "outputs": [
    {
     "name": "stderr",
     "output_type": "stream",
     "text": [
      "100%|██████████| 11/11 [00:00<00:00, 64.66it/s]\n",
      "100%|██████████| 256/256 [00:00<00:00, 5981.75it/s]\n"
     ]
    }
   ],
   "source": [
    "dataTest = pd.read_excel('MLdata/Dataset1_test/X_test.xlsx')\n",
    "dataTest = knn_imputation(dataTest)\n",
    "d1ans = SL_preadictAns(bestModel,dataTest)\n",
    "ans=pd.DataFrame(columns=[\"index\",\"target\"])\n",
    "for i,pre in enumerate(d1ans):\n",
    "    ans.loc[i] = [i,int(pre)]\n",
    "ans.to_csv(\"d1ans.csv\",index=False)"
   ]
  },
  {
   "cell_type": "markdown",
   "metadata": {
    "collapsed": false,
    "pycharm": {
     "name": "#%% md\n"
    }
   },
   "source": [
    "# Dataset 2"
   ]
  },
  {
   "cell_type": "code",
   "execution_count": 734,
   "metadata": {
    "collapsed": false,
    "pycharm": {
     "name": "#%%\n"
    }
   },
   "outputs": [],
   "source": [
    "def entropy(counts):\n",
    "    # Calculate the entropy of the target variable\n",
    "    n = sum(counts)\n",
    "    ent = 0\n",
    "    for count in counts:\n",
    "        p = count / n\n",
    "        ent -= p * math.log(p, 2)\n",
    "    return ent\n",
    "def information_gain(df,df_left, df_right):\n",
    "\n",
    "    left_entropy = entropy(df_left.target.value_counts())\n",
    "    right_entropy = entropy(df_right.target.value_counts())\n",
    "\n",
    "\n",
    "    total_size = len(df_left) + len(df_right)\n",
    "    left_weight = len(df_left) / total_size\n",
    "    right_weight = len(df_right) / total_size\n",
    "    weighted_avg_entropy = left_weight * left_entropy + right_weight * right_entropy\n",
    "\n",
    "\n",
    "    parent_entropy = entropy(df.target.value_counts())\n",
    "    info_gain = parent_entropy - weighted_avg_entropy\n",
    "\n",
    "    return info_gain"
   ]
  },
  {
   "cell_type": "code",
   "execution_count": 735,
   "metadata": {
    "collapsed": false,
    "pycharm": {
     "name": "#%%\n"
    }
   },
   "outputs": [],
   "source": [
    "class Node:\n",
    "    def __init__(self, feature=None, threshold=None, left=None, right=None, target=None):\n",
    "        self.feature = feature\n",
    "        self.threshold = threshold\n",
    "        self.left = left\n",
    "        self.right = right\n",
    "        self.target = target\n",
    "\n",
    "def create_tree(df, max_depth=5, min_samples_at_leaf=5):\n",
    "    if len(df.target.unique()) <= 2 or max_depth == 0:\n",
    "        return Node(target=int(df.target.mode().loc[0]))\n",
    "    else:\n",
    "        features = df.columns[:-1]\n",
    "        best_feature = None\n",
    "        best_threshold = None\n",
    "        best_gain = 0\n",
    "        for feature in features:\n",
    "            values = df[feature].unique()\n",
    "            num_values = round(len(values)**(1/3)**2)\n",
    "            min = np.min(values)\n",
    "            max = np.max(values)\n",
    "            interval = (max - min + 1)/num_values\n",
    "            values = [round(min + i*interval,2) for i in range(num_values)]\n",
    "            for value in values:\n",
    "                # if value == max:\n",
    "                #     threshold = values.max()\n",
    "                # else:\n",
    "                #     threshold = (value + values[values > value].min()) / 2\n",
    "                threshold = value\n",
    "                df_left = df[df[feature] <= threshold]\n",
    "                df_right = df[df[feature] > threshold]\n",
    "                gain = information_gain(df,df_left, df_right)\n",
    "                if gain > best_gain:\n",
    "                    best_feature = feature\n",
    "                    best_threshold = threshold\n",
    "                    best_gain = gain\n",
    "        if best_feature==None:\n",
    "            df.to_csv('temp.csv')\n",
    "            # print(df.value_counts())\n",
    "            # print(df)\n",
    "            # print(df.target.unique())\n",
    "            return Node(target=int(df.target.mode().loc[0]))\n",
    "        df_left = df[df[best_feature] <= best_threshold]\n",
    "        df_right = df[df[best_feature] > best_threshold]\n",
    "        if len(df_left) < min_samples_at_leaf or len(df_right) < min_samples_at_leaf:\n",
    "            return Node(target=int(df.target.mode().loc[0]))\n",
    "        left = create_tree(df_left,max_depth=max_depth-1, min_samples_at_leaf=min_samples_at_leaf)\n",
    "        right = create_tree(df_right,max_depth=max_depth-1, min_samples_at_leaf=min_samples_at_leaf)\n",
    "        return Node(feature=best_feature, threshold = best_threshold, left=left, right=right)"
   ]
  },
  {
   "cell_type": "code",
   "execution_count": 736,
   "metadata": {
    "collapsed": false,
    "pycharm": {
     "name": "#%%\n"
    }
   },
   "outputs": [],
   "source": [
    "def predict(tree,x):\n",
    "\n",
    "    while tree.target == None:\n",
    "        feature = tree.feature\n",
    "        threshold = tree.threshold\n",
    "        if x[feature] <= threshold:\n",
    "            tree = tree.left\n",
    "        else:\n",
    "            tree = tree.right\n",
    "    return tree.target\n",
    "\n",
    "def predictAns(tree, X):\n",
    "    predictions = []\n",
    "    for index in tqdm.trange(len(X)):\n",
    "        predictions.append(predict(tree, X.loc[index]))\n",
    "    return predictions"
   ]
  },
  {
   "cell_type": "code",
   "execution_count": 737,
   "metadata": {
    "collapsed": false,
    "pycharm": {
     "name": "#%%\n"
    }
   },
   "outputs": [
    {
     "name": "stderr",
     "output_type": "stream",
     "text": [
      "100%|██████████| 124848/124848 [00:34<00:00, 3605.32it/s]\n"
     ]
    }
   ],
   "source": [
    "dataX = pd.read_excel(\"MLdata/Dataset2_train/X_train.xlsx\")\n",
    "dataY = pd.read_excel(\"MLdata/Dataset2_train/y_train.xlsx\")\n",
    "processing_function_list = [to_lower,\n",
    "                            remove_itemized_bullet_and_numbering,\n",
    "                            remove_punctuation,\n",
    "                            remove_whitespace,\n",
    "                            normalize_unicode,\n",
    "                            remove_stopword,\n",
    "                            substitute_token,\n",
    "                            lemmatize_word]\n",
    "dataX = [str(x) for x in dataX.Phrase]\n",
    "dataX = [preprocess_text(x,processing_function_list) for x in tqdm.tqdm(dataX,position=0,leave=True)]\n",
    "vectoriser = TfidfVectorizer(max_features=7000)\n",
    "dataX = vectoriser.fit_transform(dataX)\n",
    "dataX = pd.DataFrame(dataX.toarray(),columns=vectoriser.get_feature_names())\n",
    "X_train, X_val, y_train, y_val = train_test_split(dataX, dataY, test_size=0.2, stratify=dataY)\n",
    "X_train.reset_index(drop=True,inplace=True)\n",
    "y_train.reset_index(drop=True,inplace=True)\n",
    "X_val.reset_index(drop=True,inplace=True)\n",
    "y_val.reset_index(drop=True,inplace=True)\n",
    "dataY_outlier.reset_index(drop=True,inplace=True)"
   ]
  },
  {
   "cell_type": "code",
   "execution_count": null,
   "metadata": {
    "collapsed": false,
    "pycharm": {
     "is_executing": true,
     "name": "#%%\n"
    }
   },
   "outputs": [],
   "source": [
    "tree = create_tree(pd.concat([X_train, y_train], axis=1), max_depth=12, min_samples_at_leaf=3)"
   ]
  },
  {
   "cell_type": "code",
   "execution_count": 629,
   "metadata": {
    "collapsed": false,
    "pycharm": {
     "name": "#%%\n"
    }
   },
   "outputs": [],
   "source": [
    "def report(predictions, y_test):\n",
    "    print('Accuracy: %s' % accuracy_score(y_test, predictions))\n",
    "    print('Confusion Matrix:')\n",
    "    print(confusion_matrix(y_test, predictions,labels=[0,1,2,3,4]))\n",
    "    print('Classification Report:')\n",
    "    print(classification_report(y_test, predictions))"
   ]
  },
  {
   "cell_type": "code",
   "execution_count": 626,
   "metadata": {
    "collapsed": false,
    "pycharm": {
     "name": "#%%\n"
    }
   },
   "outputs": [
    {
     "name": "stderr",
     "output_type": "stream",
     "text": [
      "100%|██████████| 30865/30865 [00:01<00:00, 19076.12it/s]\n"
     ]
    }
   ],
   "source": [
    "pre = predictAns(tree,X_val)"
   ]
  },
  {
   "cell_type": "code",
   "execution_count": 630,
   "metadata": {
    "collapsed": false,
    "pycharm": {
     "name": "#%%\n"
    }
   },
   "outputs": [
    {
     "name": "stdout",
     "output_type": "stream",
     "text": [
      "Accuracy: 0.5050704681678276\n",
      "Confusion Matrix:\n",
      "[[    0     0  1414     0     0]\n",
      " [    0     0  5448     0     0]\n",
      " [    0     0 15589     0     0]\n",
      " [    0     0  6573     0     0]\n",
      " [    0     0  1841     0     0]]\n",
      "Classification Report:\n",
      "              precision    recall  f1-score   support\n",
      "\n",
      "           0       0.00      0.00      0.00      1414\n",
      "           1       0.00      0.00      0.00      5448\n",
      "           2       0.51      1.00      0.67     15589\n",
      "           3       0.00      0.00      0.00      6573\n",
      "           4       0.00      0.00      0.00      1841\n",
      "\n",
      "    accuracy                           0.51     30865\n",
      "   macro avg       0.10      0.20      0.13     30865\n",
      "weighted avg       0.26      0.51      0.34     30865\n",
      "\n"
     ]
    }
   ],
   "source": [
    "report(pre,y_val)"
   ]
  },
  {
   "cell_type": "code",
   "execution_count": 110,
   "metadata": {
    "collapsed": false,
    "pycharm": {
     "name": "#%%\n"
    }
   },
   "outputs": [
    {
     "name": "stderr",
     "output_type": "stream",
     "text": [
      "  0%|          | 0/11 [00:00<?, ?it/s]/Users/chc/opt/anaconda3/envs/NLP/lib/python3.8/site-packages/sklearn/preprocessing/_data.py:464: RuntimeWarning: All-NaN slice encountered\n",
      "  data_min = np.nanmin(X, axis=0)\n",
      "/Users/chc/opt/anaconda3/envs/NLP/lib/python3.8/site-packages/sklearn/preprocessing/_data.py:465: RuntimeWarning: All-NaN slice encountered\n",
      "  data_max = np.nanmax(X, axis=0)\n",
      "/var/folders/5x/dbx2lv556_g0h2jsjg7k_tf00000gn/T/ipykernel_8228/1232496976.py:6: FutureWarning: The behavior of `series[i:j]` with an integer-dtype index is deprecated. In a future version, this will be treated as *label-based* indexing, consistent with e.g. `series[i]` lookups. To retain the old behavior, use `series.iloc[i:j]`. To get the future behavior, use `series.loc[i:j]`.\n",
      "  indices.update( {row:distances.sort_values()[:k].index})\n",
      "/Users/chc/opt/anaconda3/envs/NLP/lib/python3.8/site-packages/sklearn/preprocessing/_data.py:464: RuntimeWarning: All-NaN slice encountered\n",
      "  data_min = np.nanmin(X, axis=0)\n",
      "/Users/chc/opt/anaconda3/envs/NLP/lib/python3.8/site-packages/sklearn/preprocessing/_data.py:465: RuntimeWarning: All-NaN slice encountered\n",
      "  data_max = np.nanmax(X, axis=0)\n",
      "/var/folders/5x/dbx2lv556_g0h2jsjg7k_tf00000gn/T/ipykernel_8228/1232496976.py:6: FutureWarning: The behavior of `series[i:j]` with an integer-dtype index is deprecated. In a future version, this will be treated as *label-based* indexing, consistent with e.g. `series[i]` lookups. To retain the old behavior, use `series.iloc[i:j]`. To get the future behavior, use `series.loc[i:j]`.\n",
      "  indices.update( {row:distances.sort_values()[:k].index})\n",
      "/Users/chc/opt/anaconda3/envs/NLP/lib/python3.8/site-packages/sklearn/preprocessing/_data.py:464: RuntimeWarning: All-NaN slice encountered\n",
      "  data_min = np.nanmin(X, axis=0)\n",
      "/Users/chc/opt/anaconda3/envs/NLP/lib/python3.8/site-packages/sklearn/preprocessing/_data.py:465: RuntimeWarning: All-NaN slice encountered\n",
      "  data_max = np.nanmax(X, axis=0)\n",
      "/var/folders/5x/dbx2lv556_g0h2jsjg7k_tf00000gn/T/ipykernel_8228/1232496976.py:6: FutureWarning: The behavior of `series[i:j]` with an integer-dtype index is deprecated. In a future version, this will be treated as *label-based* indexing, consistent with e.g. `series[i]` lookups. To retain the old behavior, use `series.iloc[i:j]`. To get the future behavior, use `series.loc[i:j]`.\n",
      "  indices.update( {row:distances.sort_values()[:k].index})\n",
      "/Users/chc/opt/anaconda3/envs/NLP/lib/python3.8/site-packages/sklearn/preprocessing/_data.py:464: RuntimeWarning: All-NaN slice encountered\n",
      "  data_min = np.nanmin(X, axis=0)\n",
      "/Users/chc/opt/anaconda3/envs/NLP/lib/python3.8/site-packages/sklearn/preprocessing/_data.py:465: RuntimeWarning: All-NaN slice encountered\n",
      "  data_max = np.nanmax(X, axis=0)\n",
      "/var/folders/5x/dbx2lv556_g0h2jsjg7k_tf00000gn/T/ipykernel_8228/1232496976.py:6: FutureWarning: The behavior of `series[i:j]` with an integer-dtype index is deprecated. In a future version, this will be treated as *label-based* indexing, consistent with e.g. `series[i]` lookups. To retain the old behavior, use `series.iloc[i:j]`. To get the future behavior, use `series.loc[i:j]`.\n",
      "  indices.update( {row:distances.sort_values()[:k].index})\n",
      "/Users/chc/opt/anaconda3/envs/NLP/lib/python3.8/site-packages/sklearn/preprocessing/_data.py:464: RuntimeWarning: All-NaN slice encountered\n",
      "  data_min = np.nanmin(X, axis=0)\n",
      "/Users/chc/opt/anaconda3/envs/NLP/lib/python3.8/site-packages/sklearn/preprocessing/_data.py:465: RuntimeWarning: All-NaN slice encountered\n",
      "  data_max = np.nanmax(X, axis=0)\n",
      "/var/folders/5x/dbx2lv556_g0h2jsjg7k_tf00000gn/T/ipykernel_8228/1232496976.py:6: FutureWarning: The behavior of `series[i:j]` with an integer-dtype index is deprecated. In a future version, this will be treated as *label-based* indexing, consistent with e.g. `series[i]` lookups. To retain the old behavior, use `series.iloc[i:j]`. To get the future behavior, use `series.loc[i:j]`.\n",
      "  indices.update( {row:distances.sort_values()[:k].index})\n",
      "/Users/chc/opt/anaconda3/envs/NLP/lib/python3.8/site-packages/sklearn/preprocessing/_data.py:464: RuntimeWarning: All-NaN slice encountered\n",
      "  data_min = np.nanmin(X, axis=0)\n",
      "/Users/chc/opt/anaconda3/envs/NLP/lib/python3.8/site-packages/sklearn/preprocessing/_data.py:465: RuntimeWarning: All-NaN slice encountered\n",
      "  data_max = np.nanmax(X, axis=0)\n",
      "/var/folders/5x/dbx2lv556_g0h2jsjg7k_tf00000gn/T/ipykernel_8228/1232496976.py:6: FutureWarning: The behavior of `series[i:j]` with an integer-dtype index is deprecated. In a future version, this will be treated as *label-based* indexing, consistent with e.g. `series[i]` lookups. To retain the old behavior, use `series.iloc[i:j]`. To get the future behavior, use `series.loc[i:j]`.\n",
      "  indices.update( {row:distances.sort_values()[:k].index})\n",
      "/Users/chc/opt/anaconda3/envs/NLP/lib/python3.8/site-packages/sklearn/preprocessing/_data.py:464: RuntimeWarning: All-NaN slice encountered\n",
      "  data_min = np.nanmin(X, axis=0)\n",
      "/Users/chc/opt/anaconda3/envs/NLP/lib/python3.8/site-packages/sklearn/preprocessing/_data.py:465: RuntimeWarning: All-NaN slice encountered\n",
      "  data_max = np.nanmax(X, axis=0)\n",
      "/var/folders/5x/dbx2lv556_g0h2jsjg7k_tf00000gn/T/ipykernel_8228/1232496976.py:6: FutureWarning: The behavior of `series[i:j]` with an integer-dtype index is deprecated. In a future version, this will be treated as *label-based* indexing, consistent with e.g. `series[i]` lookups. To retain the old behavior, use `series.iloc[i:j]`. To get the future behavior, use `series.loc[i:j]`.\n",
      "  indices.update( {row:distances.sort_values()[:k].index})\n",
      "/Users/chc/opt/anaconda3/envs/NLP/lib/python3.8/site-packages/sklearn/preprocessing/_data.py:464: RuntimeWarning: All-NaN slice encountered\n",
      "  data_min = np.nanmin(X, axis=0)\n",
      "/Users/chc/opt/anaconda3/envs/NLP/lib/python3.8/site-packages/sklearn/preprocessing/_data.py:465: RuntimeWarning: All-NaN slice encountered\n",
      "  data_max = np.nanmax(X, axis=0)\n",
      "/var/folders/5x/dbx2lv556_g0h2jsjg7k_tf00000gn/T/ipykernel_8228/1232496976.py:6: FutureWarning: The behavior of `series[i:j]` with an integer-dtype index is deprecated. In a future version, this will be treated as *label-based* indexing, consistent with e.g. `series[i]` lookups. To retain the old behavior, use `series.iloc[i:j]`. To get the future behavior, use `series.loc[i:j]`.\n",
      "  indices.update( {row:distances.sort_values()[:k].index})\n",
      "/Users/chc/opt/anaconda3/envs/NLP/lib/python3.8/site-packages/sklearn/preprocessing/_data.py:464: RuntimeWarning: All-NaN slice encountered\n",
      "  data_min = np.nanmin(X, axis=0)\n",
      "/Users/chc/opt/anaconda3/envs/NLP/lib/python3.8/site-packages/sklearn/preprocessing/_data.py:465: RuntimeWarning: All-NaN slice encountered\n",
      "  data_max = np.nanmax(X, axis=0)\n",
      "/var/folders/5x/dbx2lv556_g0h2jsjg7k_tf00000gn/T/ipykernel_8228/1232496976.py:6: FutureWarning: The behavior of `series[i:j]` with an integer-dtype index is deprecated. In a future version, this will be treated as *label-based* indexing, consistent with e.g. `series[i]` lookups. To retain the old behavior, use `series.iloc[i:j]`. To get the future behavior, use `series.loc[i:j]`.\n",
      "  indices.update( {row:distances.sort_values()[:k].index})\n",
      " 82%|████████▏ | 9/11 [00:00<00:00, 85.92it/s]/Users/chc/opt/anaconda3/envs/NLP/lib/python3.8/site-packages/sklearn/preprocessing/_data.py:464: RuntimeWarning: All-NaN slice encountered\n",
      "  data_min = np.nanmin(X, axis=0)\n",
      "/Users/chc/opt/anaconda3/envs/NLP/lib/python3.8/site-packages/sklearn/preprocessing/_data.py:465: RuntimeWarning: All-NaN slice encountered\n",
      "  data_max = np.nanmax(X, axis=0)\n",
      "/var/folders/5x/dbx2lv556_g0h2jsjg7k_tf00000gn/T/ipykernel_8228/1232496976.py:6: FutureWarning: The behavior of `series[i:j]` with an integer-dtype index is deprecated. In a future version, this will be treated as *label-based* indexing, consistent with e.g. `series[i]` lookups. To retain the old behavior, use `series.iloc[i:j]`. To get the future behavior, use `series.loc[i:j]`.\n",
      "  indices.update( {row:distances.sort_values()[:k].index})\n",
      "/Users/chc/opt/anaconda3/envs/NLP/lib/python3.8/site-packages/sklearn/preprocessing/_data.py:464: RuntimeWarning: All-NaN slice encountered\n",
      "  data_min = np.nanmin(X, axis=0)\n",
      "/Users/chc/opt/anaconda3/envs/NLP/lib/python3.8/site-packages/sklearn/preprocessing/_data.py:465: RuntimeWarning: All-NaN slice encountered\n",
      "  data_max = np.nanmax(X, axis=0)\n",
      "/var/folders/5x/dbx2lv556_g0h2jsjg7k_tf00000gn/T/ipykernel_8228/1232496976.py:6: FutureWarning: The behavior of `series[i:j]` with an integer-dtype index is deprecated. In a future version, this will be treated as *label-based* indexing, consistent with e.g. `series[i]` lookups. To retain the old behavior, use `series.iloc[i:j]`. To get the future behavior, use `series.loc[i:j]`.\n",
      "  indices.update( {row:distances.sort_values()[:k].index})\n",
      "100%|██████████| 11/11 [00:00<00:00, 86.89it/s]\n"
     ]
    }
   ],
   "source": [
    "dataTest = pd.read_excel('MLdata/Dataset2_test/X_test.xlsx')\n",
    "dataTest = knn_imputation(dataTest)\n",
    "d2ans = predictAns(tree,dataTest)\n",
    "ans=pd.DataFrame(columns=[\"index\",\"Sentiment])\n",
    "for i,pre in enumerate(d2ans):\n",
    "    ans.loc[i] = [i,int(pre)]\n",
    "ans.to_csv(\"d2ans.csv\",index=False)"
   ]
  }
 ],
 "metadata": {
  "kernelspec": {
   "display_name": "Python 3",
   "language": "python",
   "name": "python3"
  },
  "language_info": {
   "codemirror_mode": {
    "name": "ipython",
    "version": 2
   },
   "file_extension": ".py",
   "mimetype": "text/x-python",
   "name": "python",
   "nbconvert_exporter": "python",
   "pygments_lexer": "ipython2",
   "version": "3.10.8"
  },
  "vscode": {
   "interpreter": {
    "hash": "b0fa6594d8f4cbf19f97940f81e996739fb7646882a419484c72d19e05852a7e"
   }
  }
 },
 "nbformat": 4,
 "nbformat_minor": 0
}
